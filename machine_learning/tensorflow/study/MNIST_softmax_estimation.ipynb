{
 "metadata": {
  "name": ""
 },
 "nbformat": 3,
 "nbformat_minor": 0,
 "worksheets": [
  {
   "cells": [
    {
     "cell_type": "code",
     "collapsed": false,
     "input": [
      "#!/usr/bin/env python\n",
      "# -*- coding: utf-8 -*-\n",
      "import tensorflow as tf\n",
      "import numpy as np\n",
      "import matplotlib.pyplot as plt\n",
      "#MNIST\u306e\u30c7\u30fc\u30bf\u30bb\u30c3\u30c8\u3092\u53d6\u5f97\u3059\u308b\u305f\u3081\u306e\u30e2\u30b8\u30e5\u30fc\u30eb\u306e\u30a4\u30f3\u30dd\u30fc\u30c8\n",
      "from tensorflow.examples.tutorials.mnist import input_data\n",
      "\n",
      "np.random.seed(20160604)"
     ],
     "language": "python",
     "metadata": {},
     "outputs": [],
     "prompt_number": 1
    },
    {
     "cell_type": "code",
     "collapsed": false,
     "input": [
      "#MNIST\u306e\u30c7\u30fc\u30bf\u30bb\u30c3\u30c8\u306e\u30c0\u30a6\u30f3\u30ed\u30fc\u30c9\u3001\u5909\u6570\u3092\u901a\u3058\u3066\u3001\u30c7\u30fc\u30bf\u30bb\u30c3\u30c8\u3092\u5229\u7528\u53ef\u80fd\u306b\u3059\u308b\u3002\n",
      "mnist = input_data.read_data_sets(\"/tmp/data/\", one_hot=True)"
     ],
     "language": "python",
     "metadata": {},
     "outputs": [
      {
       "output_type": "stream",
       "stream": "stdout",
       "text": [
        "Extracting /tmp/data/train-images-idx3-ubyte.gz\n",
        "Extracting"
       ]
      },
      {
       "output_type": "stream",
       "stream": "stdout",
       "text": [
        " /tmp/data/train-labels-idx1-ubyte.gz\n",
        "Extracting /tmp/data/t10k-images-idx3-ubyte.gz\n",
        "Extracting /tmp/data/t10k-labels-idx1-ubyte.gz\n"
       ]
      }
     ],
     "prompt_number": 2
    },
    {
     "cell_type": "code",
     "collapsed": false,
     "input": [
      "#\u30c8\u30ec\u30fc\u30cb\u30f3\u30b0\u30bb\u30c3\u30c8\u306e\u30c7\u30fc\u30bf\u306b\u5bfe\u3057\u3066\u3001\u3042\u308b\u9818\u57df\u306b\u5c5e\u3059\u308b\u78ba\u7387Pk(Xn)\u3092\u8a08\u7b97\u3059\u308b\u6570\u5f0f\u3092\u30b3\u30fc\u30c9\u3067\u8868\u73fe\u3057\u3066\u3044\u304f\u3002\n",
      "#x\u306f\u30c8\u30ec\u30fc\u30cb\u30f3\u30b0\u30bb\u30c3\u30c8\u306e\u30c7\u30fc\u30bf\u3092\u683c\u7d0d\u3059\u308b\u3002\u4e00\u3064\u306e\u30c7\u30fc\u30bf\u306e\u8981\u7d20\u6570\u306f\u753b\u50cf\u306e\u30d4\u30af\u30bb\u30eb\u6570\u306b\u4e00\u81f4\u3057\u3066\u3001784\u3068\u306a\u308b\u3002\n",
      "x = tf.placeholder(tf.float32, [None, 784])\n",
      "#w\u306f\u3053\u308c\u304b\u3089\u6700\u9069\u5316\u3059\u308bVariable\u3067\u3001\u521d\u671f\u5024\u306f\u5168\u30660\u306b\u3059\u308b\u3002M\u00d7K\u884c\u5217\u306b\u306a\u3063\u3066\u3044\u308b\u304c\u5b9f\u969b\u306b\u306f784\u00d710\u884c\u5217\u306b\u3059\u308b\u3002\n",
      "w = tf.Variable(tf.zeros([784, 10]))\n",
      "#[1,10]\u306e\u30b5\u30a4\u30ba\u306b\u5b9a\u7fa9\u3059\u3079\u304d\u3068\u3053\u308d\u3060\u304c\u3001\u30d6\u30ed\u30fc\u30c9\u30ad\u30e3\u30b9\u30c8\u30eb\u30fc\u30eb\u306b\u3088\u308a\u4e0b\u8a18\u306e\u7528\u306b\u5ba3\u8a00\u3067\u304d\u308b\u3002\n",
      "#\u4e00\u6b21\u95a2\u6570\u306e\u5b9a\u6570\u9805\u3092\u4e00\u822c\u306b\u30d0\u30a4\u30a2\u30b9\u9805\u3068\u547c\u3076\u3002\u4e00\u6b21\u5143\u30ea\u30b9\u30c8\u306e\u30b5\u30a4\u30ba\u3067\u5b9a\u7fa9\u3059\u308b\u3002\n",
      "w0 = tf.Variable(tf.zeros([10]))\n",
      "f = tf.matmul(x, w) + w0\n",
      "p = tf.nn.softmax(f)"
     ],
     "language": "python",
     "metadata": {},
     "outputs": [],
     "prompt_number": 3
    },
    {
     "cell_type": "code",
     "collapsed": false,
     "input": [
      "t = tf.placeholder(tf.float32, [None, 10])\n",
      "#\u8aa4\u5dee\u95a2\u6570\n",
      "loss = -tf.reduce_sum(t * tf.log(p))\n",
      "train_step = tf.train.AdamOptimizer().minimize(loss)"
     ],
     "language": "python",
     "metadata": {},
     "outputs": [],
     "prompt_number": 4
    },
    {
     "cell_type": "code",
     "collapsed": false,
     "input": [
      "#\u6700\u5927\u306e\u78ba\u7acb\u3068\u306a\u308b\u6587\u5b57\u304c\u3001\u30e9\u30d9\u30eb\u3057\u3066\u3044\u3055\u308c\u305f\u6b63\u89e3\u306e\u6587\u5b57\u3068\u4e00\u81f4\u3059\u308b\u304b\u78ba\u8a8d\u3059\u308b\u3002\u7d50\u679c\u306fBool\u5024\u306e\u30ea\u30b9\u30c8\n",
      "correct_prediction = tf.equal(tf.argmax(p, 1), tf.argmax(t, 1))\n",
      "#Bool\u5024\u30921,0\u306e\u5024\u306b\u5909\u63db\u3057\u3066,\u5168\u4f53\u306e\u5e73\u5747\u5024\u3092\u8a08\u7b97\u3059\u308b\u3053\u3068\u3067\u3001\u6b63\u89e3\u7387\u3092\u8a08\u7b97\u3059\u308b\u3002\n",
      "accuracy = tf.reduce_mean(tf.cast(correct_prediction, tf.float32))"
     ],
     "language": "python",
     "metadata": {},
     "outputs": [],
     "prompt_number": 5
    },
    {
     "cell_type": "code",
     "collapsed": false,
     "input": [
      "#\u30bb\u30c3\u30b7\u30e7\u30f3\u306e\u7528\u610f\n",
      "sess = tf.InteractiveSession()\n",
      "#Variable\u306e\u521d\u671f\u5316\n",
      "sess.run(tf.initialize_all_variables())"
     ],
     "language": "python",
     "metadata": {},
     "outputs": [],
     "prompt_number": 6
    },
    {
     "cell_type": "code",
     "collapsed": false,
     "input": [
      "i = 0\n",
      "for _ in range(2000):\n",
      "    i +=1\n",
      "    '''\n",
      "    \u30c8\u30ec\u30fc\u30cb\u30f3\u30b0\u30bb\u30c3\u30c8\u304b\u3089100\u500b\u5206\u306e\u30c7\u30fc\u30bf\u3092\u53d6\u308a\u51fa\u3059\u3002\n",
      "    mnist.train.next.batch\u306f\u30c7\u30fc\u30bf\u3092\u3069\u3053\u307e\u3067\u53d6\u308a\u51fa\u3057\u305f\u304b\u3092\u8a18\u61b6\u3057\u3066\u304a\u308a\u3001\u547c\u3073\u51fa\u3059\u3054\u3068\u306b\u6b21\u306e\u30c7\u30fc\u30bf\u3092\u53d6\u308a\u51fa\u3059\u51e6\u7406\u3092\u884c\u3046\u3002\n",
      "    \u30c7\u30fc\u30bf\u3092\u6700\u5f8c\u307e\u3067\u53d6\u308a\u51fa\u3059\u3068,\u307e\u305f\u3055\u907a\u66f8\u306b\u623b\u3063\u3066,\u540c\u3058\u30c7\u30fc\u30bf\u3092\u8fd4\u3059\u3002\n",
      "    \u3053\u308c\u306f\u3001\u30df\u30cb\u30d0\u30c3\u30c1\u3001\u3082\u3057\u304f\u306f\u78ba\u7387\u52fe\u914d\u964d\u4e0b\u6cd5\u3068\u547c\u3070\u308c\u308b\u624b\u6cd5\u306b\u306a\u308b\u3002\n",
      "    '''\n",
      "    batch_xs, batch_ts = mnist.train.next_batch(100)\n",
      "    #\u305d\u306e\u30c7\u30fc\u30bf\u3092\u7528\u3044\u3066,\u52fe\u914d\u964d\u4e0b\u6cd5\u306b\u3088\u308b\u30d1\u30e9\u30e1\u30fc\u30bf\u30fc\u306e\u4fee\u6b63\u3092\u304a\u3053\u306a\u3046\u3002\u4e00\u90e8\u306e\u30c7\u30fc\u30bf\u306e\u307f\u3067\u30c8\u30ec\u30fc\u30cb\u30f3\u30b0\n",
      "    sess.run(train_step, feed_dict={x:batch_xs, t:batch_ts})\n",
      "    if i % 100 == 0:\n",
      "        #\u8aa4\u5dee\u95a2\u6570loss,\u6b63\u89e3\u7387accuracy\u306e\u5024\u3092\u8a08\u7b97\u3059\u308b\u3002\n",
      "        loss_val, acc_val = sess.run([loss, accuracy],\n",
      "            #mnist.test.images,mnist.test.labels\u306f\u3001\u305d\u308c\u305e\u308c\u3001\u30c6\u30b9\u30c8\u30bb\u30c3\u30c8\u306b\u542b\u307e\u308c\u308b\u5168\u3066\u306e\u753b\u50cf\u30c7\u30fc\u30bf\u3068\u30e9\u30d9\u30eb\u3092\u542b\u3093\u3060\u30ea\u30b9\u30c8\u306b\u306a\u3063\u3066\u3044\u308b\n",
      "            feed_dict={x:mnist.test.images, t: mnist.test.labels})\n",
      "        print ('Step: %d, Loss %f, Accuracy: %f'\n",
      "               % (i, loss_val, acc_val))"
     ],
     "language": "python",
     "metadata": {},
     "outputs": [
      {
       "output_type": "stream",
       "stream": "stdout",
       "text": [
        "Step: 100, Loss 7747.077148, Accuracy: 0.848400\n",
        "Step: 200, Loss 5439.362305, Accuracy: 0.879900"
       ]
      },
      {
       "output_type": "stream",
       "stream": "stdout",
       "text": [
        "\n",
        "Step: 300, Loss 4556.467285, Accuracy: 0.890900"
       ]
      },
      {
       "output_type": "stream",
       "stream": "stdout",
       "text": [
        "\n",
        "Step: 400, Loss 4132.035156, Accuracy: 0.896100"
       ]
      },
      {
       "output_type": "stream",
       "stream": "stdout",
       "text": [
        "\n",
        "Step: 500, Loss 3836.139160, Accuracy: 0.902600"
       ]
      },
      {
       "output_type": "stream",
       "stream": "stdout",
       "text": [
        "\n",
        "Step: 600, Loss 3646.572754, Accuracy: 0.903900"
       ]
      },
      {
       "output_type": "stream",
       "stream": "stdout",
       "text": [
        "\n",
        "Step: 700, Loss 3490.270996, Accuracy: 0.909100"
       ]
      },
      {
       "output_type": "stream",
       "stream": "stdout",
       "text": [
        "\n",
        "Step: 800, Loss 3385.605469, Accuracy: 0.909400"
       ]
      },
      {
       "output_type": "stream",
       "stream": "stdout",
       "text": [
        "\n",
        "Step: 900, Loss 3293.132324, Accuracy: 0.912800"
       ]
      },
      {
       "output_type": "stream",
       "stream": "stdout",
       "text": [
        "\n",
        "Step: 1000, Loss 3220.884766, Accuracy: 0.913700"
       ]
      },
      {
       "output_type": "stream",
       "stream": "stdout",
       "text": [
        "\n",
        "Step: 1100, Loss 3174.230469, Accuracy: 0.913700"
       ]
      },
      {
       "output_type": "stream",
       "stream": "stdout",
       "text": [
        "\n",
        "Step: 1200, Loss 3081.115234, Accuracy: 0.916400"
       ]
      },
      {
       "output_type": "stream",
       "stream": "stdout",
       "text": [
        "\n",
        "Step: 1300, Loss 3046.678711, Accuracy: 0.915400"
       ]
      },
      {
       "output_type": "stream",
       "stream": "stdout",
       "text": [
        "\n",
        "Step: 1400, Loss 3002.018555, Accuracy: 0.916300"
       ]
      },
      {
       "output_type": "stream",
       "stream": "stdout",
       "text": [
        "\n",
        "Step: 1500, Loss 2973.873779, Accuracy: 0.918700"
       ]
      },
      {
       "output_type": "stream",
       "stream": "stdout",
       "text": [
        "\n",
        "Step: 1600, Loss 2960.562500, Accuracy: 0.918200"
       ]
      },
      {
       "output_type": "stream",
       "stream": "stdout",
       "text": [
        "\n",
        "Step: 1700, Loss 2923.288818, Accuracy: 0.917500"
       ]
      },
      {
       "output_type": "stream",
       "stream": "stdout",
       "text": [
        "\n",
        "Step: 1800, Loss 2902.116943, Accuracy: 0.919000"
       ]
      },
      {
       "output_type": "stream",
       "stream": "stdout",
       "text": [
        "\n",
        "Step: 1900, Loss 2870.737061, Accuracy: 0.920000"
       ]
      },
      {
       "output_type": "stream",
       "stream": "stdout",
       "text": [
        "\n",
        "Step: 2000, Loss 2857.827881, Accuracy: 0.921100"
       ]
      },
      {
       "output_type": "stream",
       "stream": "stdout",
       "text": [
        "\n"
       ]
      }
     ],
     "prompt_number": 7
    },
    {
     "cell_type": "code",
     "collapsed": false,
     "input": [
      "'''\n",
      "\u6700\u5f8c\u306b,\u5f97\u3089\u308c\u305f\u7d50\u679c\u3092\u5b9f\u969b\u306e\u753b\u50cf\u3067\u78ba\u8a8d\u3059\u308b\u3002\n",
      "\u6b21\u306f\u30010\uff5e9\u306e\u305d\u308c\u305e\u308c\u306e\u6587\u5b57\u306b\u3064\u3044\u3066\u3001\u30c6\u30b9\u30c8\u30bb\u30c3\u30c8\u306e\u30c7\u30fc\u30bf\u304b\u3089\u6210\u679c\u3057\u305f\n",
      "\u6587\u5b57\u3068\u4e0d\u6b63\u89e3\u3060\u3063\u305f\u6587\u5b57\u3092\u4e09\u500b\u305a\u3064\u53d6\u308a\u51fa\u3057\u3066\u8868\u793a\u3055\u305b\u308b\u3002\n",
      "'''\n",
      "images, labels = mnist.test.images, mnist.test.labels\n",
      "p_val = sess.run(p, feed_dict={x:images, t: labels}) \n",
      "\n",
      "fig = plt.figure(figsize=(8,15))\n",
      "for i in range(10):\n",
      "    c = 1\n",
      "    for (image, label, pred) in zip(images, labels, p_val):\n",
      "        prediction, actual = np.argmax(pred), np.argmax(label)\n",
      "        if prediction != i:\n",
      "            continue\n",
      "        if (c < 4 and i == actual) or (c >= 4 and i != actual):\n",
      "            subplot = fig.add_subplot(10,6,i*6+c)\n",
      "            subplot.set_xticks([])\n",
      "            subplot.set_yticks([])\n",
      "            #\u4e88\u6e2c/\u6b63\u89e3\u3092\u8868\u793a\u3055\u305b\u308b\u3002\n",
      "            subplot.set_title('%d / %d' % (prediction, actual))\n",
      "            subplot.imshow(image.reshape((28,28)), vmin=0, vmax=1,\n",
      "                           cmap=plt.cm.gray_r, interpolation=\"nearest\")\n",
      "            c += 1\n",
      "            if c > 6:\n",
      "                break\n",
      "plt.show()"
     ],
     "language": "python",
     "metadata": {},
     "outputs": [],
     "prompt_number": 22
    },
    {
     "cell_type": "code",
     "collapsed": false,
     "input": [],
     "language": "python",
     "metadata": {},
     "outputs": []
    }
   ],
   "metadata": {}
  }
 ]
}