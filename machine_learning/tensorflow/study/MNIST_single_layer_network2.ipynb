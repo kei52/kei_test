{
 "metadata": {
  "name": ""
 },
 "nbformat": 3,
 "nbformat_minor": 0,
 "worksheets": [
  {
   "cells": [
    {
     "cell_type": "code",
     "collapsed": false,
     "input": [
      "#\u5358\u76f8\u30cb\u30e5\u30fc\u30e9\u30eb\u30cd\u30c3\u30c8\u30ef\u30fc\u30af\u306e\u69cb\u9020\n",
      "import tensorflow as tf\n",
      "import numpy as np\n",
      "import matplotlib.pyplot as plt\n",
      "from numpy.random import multivariate_normal, permutation\n",
      "import pandas as pd\n",
      "from pandas import DataFrame, Series\n",
      "\n",
      "np.random.seed(20160614)\n",
      "#\u30cb\u30e5\u30fc\u30e9\u30eb\u30cd\u30c3\u30c8\u30ef\u30fc\u30af\u306e\u30d1\u30e9\u30e1\u30fc\u30bf\u30fc\uff08\u4e00\u6b21\u95a2\u6570\u306e\u4fc2\u6570\uff09\u306e\u521d\u671f\u5024\u3092\u6c7a\u5b9a\u3059\u308b\u969b\u306b\u4e71\u6570\u6a5f\u80fd\u3092\u4f7f\u7528\u3059\u308b\u3002\n",
      "tf.set_random_seed(20160614)"
     ],
     "language": "python",
     "metadata": {},
     "outputs": [],
     "prompt_number": 1
    },
    {
     "cell_type": "code",
     "collapsed": false,
     "input": [
      "#\u30c8\u30ec\u30fc\u30cb\u30f3\u30b0\u30bb\u30c3\u30c8\u306e\u30c7\u30fc\u30bf\u3092\u4e71\u6570\u3067\u751f\u6210\u3059\u308b\u3002\n",
      "'''\n",
      "\u3053\u3053\u3067\u306f\u3001(x1,x2)\u5e73\u9762\u30924\u3064\u306e\u9818\u57df\u306b\u5206\u3051\u3066\u3001\u305d\u308c\u305e\u308c\u306e\u9818\u57df\u306b\u30c7\u30fc\u30bf\u3092\u914d\u7f6e\u3057\u3066\u3044\u308b\u3002\u53f3\u4e0a\u90e8\u5206\u306bt=1\u306e\u30c7\u30fc\u30bf\u3092\u914d\u7f6e\u3059\u308b\u3002\n",
      "\u53f3\u4e0a\u90e8\u5206\u306bt=1\u306e\u30c7\u30fc\u30bf\u3092\u914d\u7f6e\u3057\u3066\u3001\u305d\u308c\u4ee5\u5916\u306e\u90e8\u5206\u306b\u306ft=0\u306e\u30c7\u30fc\u30bf\u3092\u914d\u7f6e\u3059\u308b\u3002\u6700\u5c24\u63a8\u5b9a\u6cd5\u306e\u5b9f\u65bd\u3068\u540c\u3058\u3002\n",
      "'''\n",
      "def generate_datablock(n, mu, var, t):\n",
      "    data = multivariate_normal(mu, np.eye(2)*var, n)\n",
      "    df = DataFrame(data, columns=['x1','x2'])\n",
      "    df['t'] = t\n",
      "    return df\n",
      "\n",
      "#\u305d\u306e\u4ed6\u306e\u90e8\u5206\n",
      "df0 = generate_datablock(15, [7,7], 22, 0)\n",
      "df1 = generate_datablock(15, [22,7], 22, 0)\n",
      "df2 = generate_datablock(10, [7,22], 22, 0)\n",
      "#\u53f3\u4e0a\u90e8\u5206\n",
      "df3 = generate_datablock(25, [20,20], 22, 1)\n",
      "\n",
      "#\u4e00\u7dd2\u306b\u3057\u305f\n",
      "df = pd.concat([df0, df1, df2, df3], ignore_index=True)\n",
      "train_set = df.reindex(permutation(df.index)).reset_index(drop=True)\n"
     ],
     "language": "python",
     "metadata": {},
     "outputs": [],
     "prompt_number": 17
    },
    {
     "cell_type": "code",
     "collapsed": false,
     "input": [
      "#\u7e26\u306b\u4e26\u3079\u305f\u884c\u5217\u306b\u5909\u63db\u3059\u308b\u3002\n",
      "train_x = train_set[['x1','x2']].as_matrix()\n",
      "train_t = train_set['t'].as_matrix().reshape([len(train_set), 1])"
     ],
     "language": "python",
     "metadata": {},
     "outputs": [],
     "prompt_number": 16
    },
    {
     "cell_type": "code",
     "collapsed": false,
     "input": [
      "#\u96a0\u308c\u5c64\u306e\u30ce\u30fc\u30c9\u6570\u3092\u6307\u5b9a\u3059\u308b\n",
      "num_units = 2\n",
      "#\u30c8\u30ec\u30fc\u30cb\u30f3\u30b0\u30bb\u30c3\u30c8\u306e\u30c7\u30fc\u30bf\u306b\u542b\u307e\u308c\u308b\u5168\u3066\u306ex1,x2\u306e\u5024\u306e\u5e73\u5747\u5024\u306e\u8a08\u7b97\n",
      "#\u3053\u306e\u5f8c\u3001\u30d1\u30e9\u30e1\u30fc\u30bf\u30fc\u306e\u6700\u9069\u5316\u51e6\u7406\u3092\u9ad8\u901f\u5316\u3059\u308b\u30c6\u30af\u30cb\u30c3\u30af\u3067\u4f7f\u7528\u3059\u308b\u3002\n",
      "mult = train_x.flatten().mean()\n",
      "\n",
      "x = tf.placeholder(tf.float32, [None, 2])\n",
      "\n",
      "w1 = tf.Variable(tf.truncated_normal([2, num_units]))\n",
      "b1 = tf.Variable(tf.zeros([num_units]))\n",
      "#tt.nn.tanh\u306f\u30cf\u30a4\u30dc\u30ea\u30c3\u30af\u30bf\u30f3\u30b8\u30a7\u30f3\u30c8\u306b\u5bfe\u5fdc\u3059\u308b\u95a2\u6570\n",
      "hidden1 = tf.nn.tanh(tf.matmul(x, w1) + b1*mult)\n",
      "\n",
      "w0 = tf.Variable(tf.zeros([num_units, 1]))\n",
      "b0 = tf.Variable(tf.zeros([1]))\n",
      "p = tf.nn.sigmoid(tf.matmul(hidden1, w0) + b0*mult)"
     ],
     "language": "python",
     "metadata": {},
     "outputs": [],
     "prompt_number": 4
    },
    {
     "cell_type": "code",
     "collapsed": false,
     "input": [
      "t = tf.placeholder(tf.float32, [None, 1])\n",
      "#\u8aa4\u5dee\u95a2\u6570\n",
      "loss = -tf.reduce_sum(t*tf.log(p) + (1-t)*tf.log(1-p))\n",
      "#\u5b66\u7fd2\u7387\u3092\u6307\u5b9a\u3057\u305f\u30c8\u30ec\u30fc\u30cb\u30f3\u30b0\u30a2\u30eb\u30b4\u30ea\u30ba\u30e0\u3092\u4f7f\u7528\n",
      "train_step = tf.train.GradientDescentOptimizer(0.001).minimize(loss)\n",
      "#\u6210\u529f\u7387\u3092\u6c42\u3081\u308b\u95a2\u6570\n",
      "correct_prediction = tf.equal(tf.sign(p-0.5), tf.sign(t-0.5))\n",
      "#\u6210\u529f\u7387\n",
      "accuracy = tf.reduce_mean(tf.cast(correct_prediction, tf.float32))"
     ],
     "language": "python",
     "metadata": {},
     "outputs": [],
     "prompt_number": 5
    },
    {
     "cell_type": "code",
     "collapsed": false,
     "input": [
      "sess = tf.InteractiveSession()\n",
      "sess.run(tf.initialize_all_variables())"
     ],
     "language": "python",
     "metadata": {},
     "outputs": [],
     "prompt_number": 6
    },
    {
     "cell_type": "code",
     "collapsed": false,
     "input": [
      "i = 0\n",
      "for _ in range(1000):\n",
      "    i += 1\n",
      "    sess.run(train_step, feed_dict={x:train_x, t:train_t})\n",
      "    if i % 100 == 0:\n",
      "        loss_val, acc_val = sess.run(\n",
      "            [loss, accuracy], feed_dict={x:train_x, t:train_t})\n",
      "        print ('Step: %d, Loss: %f, Accuracy: %f'\n",
      "               % (i, loss_val, acc_val))"
     ],
     "language": "python",
     "metadata": {},
     "outputs": [
      {
       "output_type": "stream",
       "stream": "stdout",
       "text": [
        "Step: 100, Loss: 44.921848, Accuracy: 0.430769\n",
        "Step: 200, Loss: 39.270321, Accuracy: 0.676923"
       ]
      },
      {
       "output_type": "stream",
       "stream": "stdout",
       "text": [
        "\n",
        "Step: 300, Loss: 51.999809, Accuracy: 0.584615"
       ]
      },
      {
       "output_type": "stream",
       "stream": "stdout",
       "text": [
        "\n",
        "Step: 400, Loss: 21.687222, Accuracy: 0.907692\n",
        "Step: 500, Loss: 12.668480, Accuracy: 0.953846"
       ]
      },
      {
       "output_type": "stream",
       "stream": "stdout",
       "text": [
        "\n",
        "Step: 600, Loss: 11.944666, Accuracy: 0.953846\n",
        "Step: 700, Loss: 11.451056, Accuracy: 0.953846"
       ]
      },
      {
       "output_type": "stream",
       "stream": "stdout",
       "text": [
        "\n",
        "Step: 800, Loss: 10.919858, Accuracy: 0.953846\n",
        "Step: 900, Loss: 10.572514, Accuracy: 0.953846"
       ]
      },
      {
       "output_type": "stream",
       "stream": "stdout",
       "text": [
        "\n",
        "Step: 1000, Loss: 10.580077, Accuracy: 0.953846\n"
       ]
      }
     ],
     "prompt_number": 7
    },
    {
     "cell_type": "code",
     "collapsed": false,
     "input": [
      "train_set1 = train_set[train_set['t']==1]\n",
      "train_set2 = train_set[train_set['t']==0]\n",
      "\n",
      "fig = plt.figure(figsize=(6,6))\n",
      "subplot = fig.add_subplot(1,1,1)\n",
      "subplot.set_ylim([0,30])\n",
      "subplot.set_xlim([0,30])\n",
      "subplot.scatter(train_set1.x1, train_set1.x2, marker='x')\n",
      "subplot.scatter(train_set2.x1, train_set2.x2, marker='o')\n",
      "\n",
      "locations = []\n",
      "for x2 in np.linspace(0,30,100):\n",
      "    for x1 in np.linspace(0,30,100):\n",
      "        locations.append((x1,x2))\n",
      "p_vals = sess.run(p, feed_dict={x:locations})\n",
      "p_vals = p_vals.reshape((100,100))\n",
      "subplot.imshow(p_vals, origin='lower', extent=(0,30,0,30),\n",
      "               cmap=plt.cm.gray_r, alpha=0.5)\n",
      "plt.show()"
     ],
     "language": "python",
     "metadata": {},
     "outputs": [
      {
       "output_type": "stream",
       "stream": "stderr",
       "text": [
        "/usr/lib/pymodules/python2.7/matplotlib/collections.py:548: FutureWarning: elementwise comparison failed; returning scalar instead, but in the future will perform elementwise comparison\n",
        "  if self._edgecolors == 'face':\n"
       ]
      }
     ],
     "prompt_number": 8
    },
    {
     "cell_type": "code",
     "collapsed": false,
     "input": [],
     "language": "python",
     "metadata": {},
     "outputs": []
    }
   ],
   "metadata": {}
  }
 ]
}