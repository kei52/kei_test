{
 "cells": [
  {
   "cell_type": "code",
   "execution_count": 1,
   "metadata": {
    "collapsed": true
   },
   "outputs": [],
   "source": [
    "#!/usr/bin/env python\n",
    "# -*- coding: utf-8 -*-\n",
    "import tensorflow as tf\n",
    "import numpy as np\n",
    "import matplotlib.pyplot as plt\n",
    "from tensorflow.examples.tutorials.mnist import input_data\n",
    "\n",
    "np.random.seed(20160612)\n",
    "tf.set_random_seed(20160612)"
   ]
  },
  {
   "cell_type": "code",
   "execution_count": 2,
   "metadata": {
    "collapsed": false
   },
   "outputs": [
    {
     "name": "stdout",
     "output_type": "stream",
     "text": [
      "Extracting /tmp/data/train-images-idx3-ubyte.gz\n",
      "Extracting /tmp/data/train-labels-idx1-ubyte.gz\n",
      "Extracting /tmp/data/t10k-images-idx3-ubyte.gz\n",
      "Extracting /tmp/data/t10k-labels-idx1-ubyte.gz\n"
     ]
    }
   ],
   "source": [
    "#MNISTのデータセットをダウンロードする\n",
    "mnist = input_data.read_data_sets(\"/tmp/data/\", one_hot=True)"
   ]
  },
  {
   "cell_type": "code",
   "execution_count": 3,
   "metadata": {
    "collapsed": false
   },
   "outputs": [],
   "source": [
    "num_units = 1024\n",
    "\n",
    "x = tf.placeholder(tf.float32, [None, 784])\n",
    "\n",
    "#隠れ層の出力hidden1の計算\n",
    "w1 = tf.Variable(tf.truncated_normal([784, num_units]))\n",
    "b1 = tf.Variable(tf.zeros([num_units]))\n",
    "hidden1 = tf.nn.relu(tf.matmul(x, w1) + b1)\n",
    "\n",
    "#隠れ層の出力から、ソフトマックス関数を用いて確率を計算する部分\n",
    "w0 = tf.Variable(tf.zeros([num_units, 10]))\n",
    "b0 = tf.Variable(tf.zeros([10]))\n",
    "p = tf.nn.softmax(tf.matmul(hidden1, w0) + b0)"
   ]
  },
  {
   "cell_type": "code",
   "execution_count": 4,
   "metadata": {
    "collapsed": false
   },
   "outputs": [],
   "source": [
    "t = tf.placeholder(tf.float32, [None, 10])\n",
    "loss = -tf.reduce_sum(t * tf.log(p))\n",
    "#トレーニングアルゴリズムtrain_stepの定義\n",
    "train_step = tf.train.AdamOptimizer().minimize(loss)\n",
    "correct_prediction = tf.equal(tf.argmax(p, 1), tf.argmax(t, 1))\n",
    "#正解率accuracyの定義\n",
    "accuracy = tf.reduce_mean(tf.cast(correct_prediction, tf.float32))"
   ]
  },
  {
   "cell_type": "code",
   "execution_count": 5,
   "metadata": {
    "collapsed": false
   },
   "outputs": [],
   "source": [
    "#セッションの用意\n",
    "sess = tf.InteractiveSession()\n",
    "#Variableの初期化\n",
    "sess.run(tf.initialize_all_variables())"
   ]
  },
  {
   "cell_type": "code",
   "execution_count": 7,
   "metadata": {
    "collapsed": false
   },
   "outputs": [
    {
     "name": "stdout",
     "output_type": "stream",
     "text": [
      "Step: 100, Loss: 1067.438477, Accuracy: 0.969400\n",
      "Step: 200, Loss: 979.750488, Accuracy: 0.970600\n",
      "Step: 300, Loss: 909.228760, Accuracy: 0.972800\n",
      "Step: 400, Loss: 945.900330, Accuracy: 0.971900\n",
      "Step: 500, Loss: 933.217834, Accuracy: 0.973000\n",
      "Step: 600, Loss: 981.230103, Accuracy: 0.970800\n",
      "Step: 700, Loss: 880.398499, Accuracy: 0.974100\n",
      "Step: 800, Loss: 1008.995789, Accuracy: 0.971500\n",
      "Step: 900, Loss: 933.573181, Accuracy: 0.973400\n",
      "Step: 1000, Loss: 912.573853, Accuracy: 0.972500\n",
      "Step: 1100, Loss: 1027.446167, Accuracy: 0.969800\n",
      "Step: 1200, Loss: 1015.711914, Accuracy: 0.972900\n",
      "Step: 1300, Loss: 1096.841919, Accuracy: 0.970400\n",
      "Step: 1400, Loss: 948.667969, Accuracy: 0.974400\n",
      "Step: 1500, Loss: 972.939331, Accuracy: 0.974000\n",
      "Step: 1600, Loss: 1030.249878, Accuracy: 0.972600\n",
      "Step: 1700, Loss: 1045.442261, Accuracy: 0.972500\n",
      "Step: 1800, Loss: 1058.476685, Accuracy: 0.972500\n",
      "Step: 1900, Loss: 1049.189575, Accuracy: 0.972000\n",
      "Step: 2000, Loss: 968.911255, Accuracy: 0.973800\n"
     ]
    }
   ],
   "source": [
    "#パラメータの最適化処理（勾配降下法によるパラメータの最適化）\n",
    "i = 0\n",
    "#2000回繰り返す\n",
    "for _ in range(2000):\n",
    "    i += 1\n",
    "    #トレーニングセットから100個分のデータを取り出す。\n",
    "    batch_xs, batch_ts = mnist.train.next_batch(100)\n",
    "    #そのデータを用いて、+ \n",
    "    sess.run(train_step, feed_dict={x: batch_xs, t: batch_ts})\n",
    "    if i % 100 == 0:\n",
    "        loss_val, acc_val = sess.run([loss, accuracy],\n",
    "            feed_dict={x:mnist.test.images, t: mnist.test.labels})\n",
    "        print ('Step: %d, Loss: %f, Accuracy: %f'\n",
    "               % (i, loss_val, acc_val))"
   ]
  },
  {
   "cell_type": "code",
   "execution_count": null,
   "metadata": {
    "collapsed": false
   },
   "outputs": [],
   "source": [
    "images, labels = mnist.test.images, mnist.test.labels\n",
    "p_val = sess.run(p, feed_dict={x:images, t: labels}) \n",
    "\n",
    "fig = plt.figure(figsize=(8,15))\n",
    "for i in range(10):\n",
    "    c = 1\n",
    "    for (image, label, pred) in zip(images, labels, p_val):\n",
    "        prediction, actual = np.argmax(pred), np.argmax(label)\n",
    "        if prediction != i:\n",
    "            continue\n",
    "        if (c < 4 and i == actual) or (c >= 4 and i != actual):\n",
    "            subplot = fig.add_subplot(10,6,i*6+c)\n",
    "            subplot.set_xticks([])\n",
    "            subplot.set_yticks([])\n",
    "            subplot.set_title('%d / %d' % (prediction, actual))\n",
    "            subplot.imshow(image.reshape((28,28)), vmin=0, vmax=1,\n",
    "                           cmap=plt.cm.gray_r, interpolation=\"nearest\")\n",
    "            c += 1\n",
    "            if c > 6:\n",
    "                break\n",
    "plt.show()"
   ]
  },
  {
   "cell_type": "code",
   "execution_count": null,
   "metadata": {
    "collapsed": true
   },
   "outputs": [],
   "source": []
  }
 ],
 "metadata": {
  "kernelspec": {
   "display_name": "Python 2",
   "language": "python",
   "name": "python2"
  },
  "language_info": {
   "codemirror_mode": {
    "name": "ipython",
    "version": 2
   },
   "file_extension": ".py",
   "mimetype": "text/x-python",
   "name": "python",
   "nbconvert_exporter": "python",
   "pygments_lexer": "ipython2",
   "version": "2.7.6"
  }
 },
 "nbformat": 4,
 "nbformat_minor": 1
}
