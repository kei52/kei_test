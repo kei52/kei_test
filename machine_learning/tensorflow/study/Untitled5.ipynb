{
 "cells": [
  {
   "cell_type": "code",
   "execution_count": 1,
   "metadata": {
    "collapsed": true
   },
   "outputs": [],
   "source": [
    "import tensorflow as tf\n",
    "import numpy as np\n",
    "import matplotlib.pyplot as plt\n",
    "from tensorflow.examples.tutorials.mnist import input_data\n",
    "\n",
    "np.random.seed(20160612)\n",
    "tf.set_random_seed(20160612)"
   ]
  },
  {
   "cell_type": "code",
   "execution_count": 2,
   "metadata": {
    "collapsed": false
   },
   "outputs": [
    {
     "name": "stdout",
     "output_type": "stream",
     "text": [
      "Extracting /tmp/data/train-images-idx3-ubyte.gz\n",
      "Extracting /tmp/data/train-labels-idx1-ubyte.gz\n",
      "Extracting /tmp/data/t10k-images-idx3-ubyte.gz\n",
      "Extracting /tmp/data/t10k-labels-idx1-ubyte.gz\n"
     ]
    }
   ],
   "source": [
    "mnist = input_data.read_data_sets(\"/tmp/data/\", one_hot=True)"
   ]
  },
  {
   "cell_type": "code",
   "execution_count": 3,
   "metadata": {
    "collapsed": true
   },
   "outputs": [],
   "source": [
    "class SingleLayerNetwork:\n",
    "    def __init__(self, num_units):\n",
    "        with tf.Graph().as_default():\n",
    "            self.prepare_model(num_units)\n",
    "            self.prepare_session()\n",
    "\n",
    "    def prepare_model(self, num_units):\n",
    "        with tf.name_scope('input'):\n",
    "            x = tf.placeholder(tf.float32, [None, 784], name='input')\n",
    "        \n",
    "        with tf.name_scope('hidden'):\n",
    "            w1 = tf.Variable(tf.truncated_normal([784, num_units]),\n",
    "                             name='weights')        \n",
    "            b1 = tf.Variable(tf.zeros([num_units]), name='biases')\n",
    "            hidden1 = tf.nn.relu(tf.matmul(x, w1) + b1, name='hidden1')\n",
    "        \n",
    "        with tf.name_scope('output'):\n",
    "            w0 = tf.Variable(tf.zeros([num_units, 10]), name='weights')\n",
    "            b0 = tf.Variable(tf.zeros([10]), name='biases')\n",
    "            p = tf.nn.softmax(tf.matmul(hidden1, w0) + b0, name='softmax')\n",
    "\n",
    "        with tf.name_scope('optimizer'):\n",
    "            t = tf.placeholder(tf.float32, [None, 10], name='labels')\n",
    "            loss = -tf.reduce_sum(t * tf.log(p), name='loss')\n",
    "            train_step = tf.train.AdamOptimizer().minimize(loss)\n",
    "\n",
    "        with tf.name_scope('evaluator'):\n",
    "            correct_prediction = tf.equal(tf.argmax(p, 1), tf.argmax(t, 1))\n",
    "            accuracy = tf.reduce_mean(tf.cast(correct_prediction,\n",
    "                                              tf.float32), name='accuracy')\n",
    "\n",
    "        tf.scalar_summary(\"loss\", loss)\n",
    "        tf.scalar_summary(\"accuracy\", accuracy)\n",
    "        tf.histogram_summary(\"weights_hidden\", w1)\n",
    "        tf.histogram_summary(\"biases_hidden\", b1)\n",
    "        tf.histogram_summary(\"weights_output\", w0)\n",
    "        tf.histogram_summary(\"biases_output\", b0)\n",
    "                \n",
    "        self.x, self.t, self.p = x, t, p\n",
    "        self.train_step = train_step\n",
    "        self.loss = loss\n",
    "        self.accuracy = accuracy\n",
    "            \n",
    "    def prepare_session(self):\n",
    "        sess = tf.InteractiveSession()\n",
    "        sess.run(tf.initialize_all_variables())\n",
    "        summary = tf.merge_all_summaries()\n",
    "        writer = tf.train.SummaryWriter(\"/tmp/mnist_sl_logs\", sess.graph)\n",
    "        \n",
    "        self.sess = sess\n",
    "        self.summary = summary\n",
    "        self.writer = writer"
   ]
  },
  {
   "cell_type": "code",
   "execution_count": 4,
   "metadata": {
    "collapsed": true
   },
   "outputs": [],
   "source": [
    "!rm -rf /tmp/mnist_sl_logs"
   ]
  },
  {
   "cell_type": "code",
   "execution_count": 5,
   "metadata": {
    "collapsed": false
   },
   "outputs": [
    {
     "name": "stdout",
     "output_type": "stream",
     "text": [
      "Step: 100, Loss: 3193.628174, Accuracy: 0.903000\n",
      "Step: 200, Loss: 2361.745117, Accuracy: 0.929700\n",
      "Step: 300, Loss: 1984.334229, Accuracy: 0.941500\n",
      "Step: 400, Loss: 2004.437256, Accuracy: 0.938000\n",
      "Step: 500, Loss: 1718.406616, Accuracy: 0.948100\n",
      "Step: 600, Loss: 1502.005127, Accuracy: 0.954600\n",
      "Step: 700, Loss: 1291.457520, Accuracy: 0.961200\n",
      "Step: 800, Loss: 1256.212280, Accuracy: 0.961100\n",
      "Step: 900, Loss: 1196.300659, Accuracy: 0.964400\n",
      "Step: 1000, Loss: 1259.283325, Accuracy: 0.964000\n",
      "Step: 1100, Loss: 1083.064819, Accuracy: 0.966200\n",
      "Step: 1200, Loss: 1062.172607, Accuracy: 0.966900\n",
      "Step: 1300, Loss: 1196.362305, Accuracy: 0.962300\n",
      "Step: 1400, Loss: 1086.707153, Accuracy: 0.967000\n",
      "Step: 1500, Loss: 1111.764526, Accuracy: 0.967500\n",
      "Step: 1600, Loss: 1120.840698, Accuracy: 0.966900\n",
      "Step: 1700, Loss: 978.348206, Accuracy: 0.970500\n",
      "Step: 1800, Loss: 978.814453, Accuracy: 0.970800\n",
      "Step: 1900, Loss: 997.710693, Accuracy: 0.970500\n",
      "Step: 2000, Loss: 1000.483398, Accuracy: 0.971600\n"
     ]
    }
   ],
   "source": [
    "nn = SingleLayerNetwork(1024)\n",
    "\n",
    "i = 0\n",
    "for _ in range(2000):\n",
    "    i += 1\n",
    "    batch_xs, batch_ts = mnist.train.next_batch(100)\n",
    "    nn.sess.run(nn.train_step, feed_dict={nn.x: batch_xs, nn.t: batch_ts})\n",
    "    if i % 100 == 0:\n",
    "        summary, loss_val, acc_val = nn.sess.run(\n",
    "            [nn.summary, nn.loss, nn.accuracy],\n",
    "            feed_dict={nn.x:mnist.test.images, nn.t: mnist.test.labels})\n",
    "        print ('Step: %d, Loss: %f, Accuracy: %f'\n",
    "               % (i, loss_val, acc_val))\n",
    "        nn.writer.add_summary(summary, i)"
   ]
  }
 ],
 "metadata": {
  "kernelspec": {
   "display_name": "Python 2",
   "language": "python",
   "name": "python2"
  },
  "language_info": {
   "codemirror_mode": {
    "name": "ipython",
    "version": 2
   },
   "file_extension": ".py",
   "mimetype": "text/x-python",
   "name": "python",
   "nbconvert_exporter": "python",
   "pygments_lexer": "ipython2",
   "version": "2.7.6"
  }
 },
 "nbformat": 4,
 "nbformat_minor": 1
}
