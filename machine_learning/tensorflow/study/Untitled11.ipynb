{
 "metadata": {
  "name": ""
 },
 "nbformat": 3,
 "nbformat_minor": 0,
 "worksheets": [
  {
   "cells": [
    {
     "cell_type": "code",
     "collapsed": false,
     "input": [
      "import tensorflow as tf\n",
      "import numpy as np\n",
      "import matplotlib.pyplot as plt\n",
      "from tensorflow.examples.tutorials.mnist import input_data\n",
      "\n",
      "np.random.seed(20160604)"
     ],
     "language": "python",
     "metadata": {},
     "outputs": [],
     "prompt_number": 2
    },
    {
     "cell_type": "code",
     "collapsed": false,
     "input": [
      "mnist = input_data.read_data_sets(\"/tmp/data/\", one_hot=True)"
     ],
     "language": "python",
     "metadata": {},
     "outputs": [
      {
       "output_type": "stream",
       "stream": "stdout",
       "text": [
        "Extracting /tmp/data/train-images-idx3-ubyte.gz\n",
        "Extracting"
       ]
      },
      {
       "output_type": "stream",
       "stream": "stdout",
       "text": [
        " /tmp/data/train-labels-idx1-ubyte.gz\n",
        "Extracting /tmp/data/t10k-images-idx3-ubyte.gz\n",
        "Extracting /tmp/data/t10k-labels-idx1-ubyte.gz\n"
       ]
      }
     ],
     "prompt_number": 3
    },
    {
     "cell_type": "code",
     "collapsed": false,
     "input": [
      "x = tf.placeholder(tf.float32, [None, 784])\n",
      "w = tf.Variable(tf.zeros([784, 10]))\n",
      "w0 = tf.Variable(tf.zeros([10]))\n",
      "f = tf.matmul(x, w) + w0\n",
      "p = tf.nn.softmax(f)"
     ],
     "language": "python",
     "metadata": {},
     "outputs": [],
     "prompt_number": 4
    },
    {
     "cell_type": "code",
     "collapsed": false,
     "input": [
      "t = tf.placeholder(tf.float32, [None, 10])\n",
      "loss = -tf.reduce_sum(t * tf.log(p))\n",
      "train_step = tf.train.AdamOptimizer().minimize(loss)"
     ],
     "language": "python",
     "metadata": {},
     "outputs": [],
     "prompt_number": 5
    },
    {
     "cell_type": "code",
     "collapsed": false,
     "input": [
      "correct_prediction = tf.equal(tf.argmax(p, 1), tf.argmax(t, 1))\n",
      "accuracy = tf.reduce_mean(tf.cast(correct_prediction, tf.float32))"
     ],
     "language": "python",
     "metadata": {},
     "outputs": [],
     "prompt_number": 6
    },
    {
     "cell_type": "code",
     "collapsed": false,
     "input": [
      "sess = tf.InteractiveSession()\n",
      "sess.run(tf.initialize_all_variables())"
     ],
     "language": "python",
     "metadata": {},
     "outputs": [],
     "prompt_number": 7
    },
    {
     "cell_type": "code",
     "collapsed": false,
     "input": [
      "i = 0\n",
      "for _ in range(2000):\n",
      "    i += 1\n",
      "    batch_xs, batch_ts = mnist.train.next_batch(100)\n",
      "    sess.run(train_step, feed_dict={x: batch_xs, t: batch_ts})\n",
      "    if i % 100 == 0:\n",
      "        loss_val, acc_val = sess.run([loss, accuracy],\n",
      "            feed_dict={x:mnist.test.images, t: mnist.test.labels})\n",
      "        print ('Step: %d, Loss: %f, Accuracy: %f'\n",
      "               % (i, loss_val, acc_val))"
     ],
     "language": "python",
     "metadata": {},
     "outputs": [
      {
       "output_type": "stream",
       "stream": "stdout",
       "text": [
        "Step: 100, Loss: 7747.077148, Accuracy: 0.848400\n",
        "Step: 200, Loss: 5439.362305, Accuracy: 0.879900"
       ]
      },
      {
       "output_type": "stream",
       "stream": "stdout",
       "text": [
        "\n",
        "Step: 300, Loss: 4556.467285, Accuracy: 0.890900"
       ]
      },
      {
       "output_type": "stream",
       "stream": "stdout",
       "text": [
        "\n",
        "Step: 400, Loss: 4132.035156, Accuracy: 0.896100"
       ]
      },
      {
       "output_type": "stream",
       "stream": "stdout",
       "text": [
        "\n",
        "Step: 500, Loss: 3836.139160, Accuracy: 0.902600"
       ]
      },
      {
       "output_type": "stream",
       "stream": "stdout",
       "text": [
        "\n",
        "Step: 600, Loss: 3646.572754, Accuracy: 0.903900"
       ]
      },
      {
       "output_type": "stream",
       "stream": "stdout",
       "text": [
        "\n",
        "Step: 700, Loss: 3490.270996, Accuracy: 0.909100"
       ]
      },
      {
       "output_type": "stream",
       "stream": "stdout",
       "text": [
        "\n",
        "Step: 800, Loss: 3385.605469, Accuracy: 0.909400"
       ]
      },
      {
       "output_type": "stream",
       "stream": "stdout",
       "text": [
        "\n",
        "Step: 900, Loss: 3293.132324, Accuracy: 0.912800"
       ]
      },
      {
       "output_type": "stream",
       "stream": "stdout",
       "text": [
        "\n",
        "Step: 1000, Loss: 3220.884766, Accuracy: 0.913700"
       ]
      },
      {
       "output_type": "stream",
       "stream": "stdout",
       "text": [
        "\n",
        "Step: 1100, Loss: 3174.230469, Accuracy: 0.913700"
       ]
      },
      {
       "output_type": "stream",
       "stream": "stdout",
       "text": [
        "\n",
        "Step: 1200, Loss: 3081.115234, Accuracy: 0.916400"
       ]
      },
      {
       "output_type": "stream",
       "stream": "stdout",
       "text": [
        "\n",
        "Step: 1300, Loss: 3046.678711, Accuracy: 0.915400"
       ]
      },
      {
       "output_type": "stream",
       "stream": "stdout",
       "text": [
        "\n",
        "Step: 1400, Loss: 3002.018555, Accuracy: 0.916300"
       ]
      },
      {
       "output_type": "stream",
       "stream": "stdout",
       "text": [
        "\n",
        "Step: 1500, Loss: 2973.873779, Accuracy: 0.918700"
       ]
      },
      {
       "output_type": "stream",
       "stream": "stdout",
       "text": [
        "\n",
        "Step: 1600, Loss: 2960.562500, Accuracy: 0.918200"
       ]
      },
      {
       "output_type": "stream",
       "stream": "stdout",
       "text": [
        "\n",
        "Step: 1700, Loss: 2923.288818, Accuracy: 0.917500"
       ]
      },
      {
       "output_type": "stream",
       "stream": "stdout",
       "text": [
        "\n",
        "Step: 1800, Loss: 2902.116943, Accuracy: 0.919000"
       ]
      },
      {
       "output_type": "stream",
       "stream": "stdout",
       "text": [
        "\n",
        "Step: 1900, Loss: 2870.737061, Accuracy: 0.920000"
       ]
      },
      {
       "output_type": "stream",
       "stream": "stdout",
       "text": [
        "\n",
        "Step: 2000, Loss: 2857.827881, Accuracy: 0.921100"
       ]
      },
      {
       "output_type": "stream",
       "stream": "stdout",
       "text": [
        "\n"
       ]
      }
     ],
     "prompt_number": 8
    },
    {
     "cell_type": "code",
     "collapsed": false,
     "input": [
      "images, labels = mnist.test.images, mnist.test.labels\n",
      "p_val = sess.run(p, feed_dict={x:images, t: labels}) \n",
      "\n",
      "fig = plt.figure(figsize=(8,15))\n",
      "for i in range(10):\n",
      "    c = 1\n",
      "    for (image, label, pred) in zip(images, labels, p_val):\n",
      "        prediction, actual = np.argmax(pred), np.argmax(label)\n",
      "        if prediction != i:\n",
      "            continue\n",
      "        if (c < 4 and i == actual) or (c >= 4 and i != actual):\n",
      "            subplot = fig.add_subplot(10,6,i*6+c)\n",
      "            subplot.set_xticks([])\n",
      "            subplot.set_yticks([])\n",
      "            subplot.set_title('%d / %d' % (prediction, actual))\n",
      "            subplot.imshow(image.reshape((28,28)), vmin=0, vmax=1,\n",
      "                           cmap=plt.cm.gray_r, interpolation=\"nearest\")\n",
      "            c += 1\n",
      "            if c > 6:\n",
      "                break\n",
      "plt.show()"
     ],
     "language": "python",
     "metadata": {},
     "outputs": [],
     "prompt_number": 10
    },
    {
     "cell_type": "code",
     "collapsed": false,
     "input": [],
     "language": "python",
     "metadata": {},
     "outputs": []
    }
   ],
   "metadata": {}
  }
 ]
}