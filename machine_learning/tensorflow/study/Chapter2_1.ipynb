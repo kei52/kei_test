{
 "cells": [
  {
   "cell_type": "code",
   "execution_count": 1,
   "metadata": {
    "collapsed": true
   },
   "outputs": [],
   "source": [
    "#!/usr/bin/env python\n",
    "# -*- coding: utf-8 -*-\n",
    "import tensorflow as tf\n",
    "import numpy as np\n",
    "import matplotlib.pyplot as plt\n",
    "from numpy.random import multivariate_normal, permutation\n",
    "import pandas as pd\n",
    "from pandas import DataFrame, Series\n",
    "#ロジスティック回帰による二項分類器"
   ]
  },
  {
   "cell_type": "code",
   "execution_count": 2,
   "metadata": {
    "collapsed": false
   },
   "outputs": [],
   "source": [
    "#一行目は、乱数のシード(種）を指定するもでである。\n",
    "#ここで指定した値によって、その後に生成される乱数のパターンが決まる。\n",
    "np.random.seed(20160512)\n",
    "\n",
    "#t=0（非感染）のデータを乱数で発生させる。\n",
    "n0, mu0, variance0 = 20, [10, 11], 20\n",
    "#np.eyeは単位行列、multivariate_normal(mean, cov[, size])\n",
    "data0 = multivariate_normal(mu0, np.eye(2)*variance0, n0)\n",
    "df0 = DataFrame(data0, columns=['x1','x2'])\n",
    "df0['t'] = 0\n",
    "\n",
    "#t=1（感染）のデータを乱数で発生させる。\n",
    "n1, mu1, variance1 = 15, [18, 20], 22\n",
    "data1 = multivariate_normal(mu1, np.eye(2)*variance1 ,n1)\n",
    "df1 = DataFrame(data1, columns=['x1','x2'])\n",
    "df1['t'] = 1\n",
    "\n",
    "#これらのデータを一つにまとめた上で、より本物のデータらしくするために、行の順番をランダムにに入れ替えている。\n",
    "df = pd.concat([df0, df1], ignore_index=True)\n",
    "train_set = df.reindex(permutation(df.index)).reset_index(drop=True)"
   ]
  },
  {
   "cell_type": "code",
   "execution_count": 3,
   "metadata": {
    "collapsed": false
   },
   "outputs": [
    {
     "data": {
      "text/html": [
       "<div>\n",
       "<table border=\"1\" class=\"dataframe\">\n",
       "  <thead>\n",
       "    <tr style=\"text-align: right;\">\n",
       "      <th></th>\n",
       "      <th>x1</th>\n",
       "      <th>x2</th>\n",
       "      <th>t</th>\n",
       "    </tr>\n",
       "  </thead>\n",
       "  <tbody>\n",
       "    <tr>\n",
       "      <th>0</th>\n",
       "      <td>20.729880</td>\n",
       "      <td>18.209359</td>\n",
       "      <td>1</td>\n",
       "    </tr>\n",
       "    <tr>\n",
       "      <th>1</th>\n",
       "      <td>16.503919</td>\n",
       "      <td>14.685085</td>\n",
       "      <td>0</td>\n",
       "    </tr>\n",
       "    <tr>\n",
       "      <th>2</th>\n",
       "      <td>5.508661</td>\n",
       "      <td>17.426775</td>\n",
       "      <td>0</td>\n",
       "    </tr>\n",
       "    <tr>\n",
       "      <th>3</th>\n",
       "      <td>9.167047</td>\n",
       "      <td>9.178837</td>\n",
       "      <td>0</td>\n",
       "    </tr>\n",
       "    <tr>\n",
       "      <th>4</th>\n",
       "      <td>8.640423</td>\n",
       "      <td>9.561952</td>\n",
       "      <td>0</td>\n",
       "    </tr>\n",
       "    <tr>\n",
       "      <th>5</th>\n",
       "      <td>10.500988</td>\n",
       "      <td>17.002584</td>\n",
       "      <td>0</td>\n",
       "    </tr>\n",
       "    <tr>\n",
       "      <th>6</th>\n",
       "      <td>16.484766</td>\n",
       "      <td>22.232997</td>\n",
       "      <td>1</td>\n",
       "    </tr>\n",
       "    <tr>\n",
       "      <th>7</th>\n",
       "      <td>6.979059</td>\n",
       "      <td>8.180596</td>\n",
       "      <td>0</td>\n",
       "    </tr>\n",
       "    <tr>\n",
       "      <th>8</th>\n",
       "      <td>11.701339</td>\n",
       "      <td>0.996734</td>\n",
       "      <td>0</td>\n",
       "    </tr>\n",
       "    <tr>\n",
       "      <th>9</th>\n",
       "      <td>21.367990</td>\n",
       "      <td>18.712309</td>\n",
       "      <td>1</td>\n",
       "    </tr>\n",
       "    <tr>\n",
       "      <th>10</th>\n",
       "      <td>2.742368</td>\n",
       "      <td>9.577106</td>\n",
       "      <td>0</td>\n",
       "    </tr>\n",
       "    <tr>\n",
       "      <th>11</th>\n",
       "      <td>19.889426</td>\n",
       "      <td>15.898579</td>\n",
       "      <td>1</td>\n",
       "    </tr>\n",
       "    <tr>\n",
       "      <th>12</th>\n",
       "      <td>11.327374</td>\n",
       "      <td>12.893008</td>\n",
       "      <td>0</td>\n",
       "    </tr>\n",
       "    <tr>\n",
       "      <th>13</th>\n",
       "      <td>14.197280</td>\n",
       "      <td>10.909934</td>\n",
       "      <td>0</td>\n",
       "    </tr>\n",
       "    <tr>\n",
       "      <th>14</th>\n",
       "      <td>22.302614</td>\n",
       "      <td>25.038878</td>\n",
       "      <td>1</td>\n",
       "    </tr>\n",
       "    <tr>\n",
       "      <th>15</th>\n",
       "      <td>7.173128</td>\n",
       "      <td>5.030339</td>\n",
       "      <td>0</td>\n",
       "    </tr>\n",
       "    <tr>\n",
       "      <th>16</th>\n",
       "      <td>11.165606</td>\n",
       "      <td>23.951555</td>\n",
       "      <td>1</td>\n",
       "    </tr>\n",
       "    <tr>\n",
       "      <th>17</th>\n",
       "      <td>5.327702</td>\n",
       "      <td>6.495280</td>\n",
       "      <td>0</td>\n",
       "    </tr>\n",
       "    <tr>\n",
       "      <th>18</th>\n",
       "      <td>20.633144</td>\n",
       "      <td>17.689928</td>\n",
       "      <td>1</td>\n",
       "    </tr>\n",
       "    <tr>\n",
       "      <th>19</th>\n",
       "      <td>21.519939</td>\n",
       "      <td>28.223327</td>\n",
       "      <td>1</td>\n",
       "    </tr>\n",
       "    <tr>\n",
       "      <th>20</th>\n",
       "      <td>16.130211</td>\n",
       "      <td>24.143617</td>\n",
       "      <td>1</td>\n",
       "    </tr>\n",
       "    <tr>\n",
       "      <th>21</th>\n",
       "      <td>10.097339</td>\n",
       "      <td>17.521928</td>\n",
       "      <td>0</td>\n",
       "    </tr>\n",
       "    <tr>\n",
       "      <th>22</th>\n",
       "      <td>17.442766</td>\n",
       "      <td>20.707834</td>\n",
       "      <td>1</td>\n",
       "    </tr>\n",
       "    <tr>\n",
       "      <th>23</th>\n",
       "      <td>12.368016</td>\n",
       "      <td>16.916404</td>\n",
       "      <td>1</td>\n",
       "    </tr>\n",
       "    <tr>\n",
       "      <th>24</th>\n",
       "      <td>18.030082</td>\n",
       "      <td>11.490216</td>\n",
       "      <td>1</td>\n",
       "    </tr>\n",
       "    <tr>\n",
       "      <th>25</th>\n",
       "      <td>4.436147</td>\n",
       "      <td>6.008804</td>\n",
       "      <td>0</td>\n",
       "    </tr>\n",
       "    <tr>\n",
       "      <th>26</th>\n",
       "      <td>13.586938</td>\n",
       "      <td>5.377042</td>\n",
       "      <td>0</td>\n",
       "    </tr>\n",
       "    <tr>\n",
       "      <th>27</th>\n",
       "      <td>11.653677</td>\n",
       "      <td>9.632250</td>\n",
       "      <td>0</td>\n",
       "    </tr>\n",
       "    <tr>\n",
       "      <th>28</th>\n",
       "      <td>7.032909</td>\n",
       "      <td>12.273721</td>\n",
       "      <td>0</td>\n",
       "    </tr>\n",
       "    <tr>\n",
       "      <th>29</th>\n",
       "      <td>20.662261</td>\n",
       "      <td>22.811282</td>\n",
       "      <td>1</td>\n",
       "    </tr>\n",
       "    <tr>\n",
       "      <th>30</th>\n",
       "      <td>16.450200</td>\n",
       "      <td>6.265440</td>\n",
       "      <td>0</td>\n",
       "    </tr>\n",
       "    <tr>\n",
       "      <th>31</th>\n",
       "      <td>8.942052</td>\n",
       "      <td>7.980884</td>\n",
       "      <td>0</td>\n",
       "    </tr>\n",
       "    <tr>\n",
       "      <th>32</th>\n",
       "      <td>25.464995</td>\n",
       "      <td>20.352601</td>\n",
       "      <td>1</td>\n",
       "    </tr>\n",
       "    <tr>\n",
       "      <th>33</th>\n",
       "      <td>10.633718</td>\n",
       "      <td>26.321456</td>\n",
       "      <td>1</td>\n",
       "    </tr>\n",
       "    <tr>\n",
       "      <th>34</th>\n",
       "      <td>3.547441</td>\n",
       "      <td>8.265382</td>\n",
       "      <td>0</td>\n",
       "    </tr>\n",
       "  </tbody>\n",
       "</table>\n",
       "</div>"
      ],
      "text/plain": [
       "           x1         x2  t\n",
       "0   20.729880  18.209359  1\n",
       "1   16.503919  14.685085  0\n",
       "2    5.508661  17.426775  0\n",
       "3    9.167047   9.178837  0\n",
       "4    8.640423   9.561952  0\n",
       "5   10.500988  17.002584  0\n",
       "6   16.484766  22.232997  1\n",
       "7    6.979059   8.180596  0\n",
       "8   11.701339   0.996734  0\n",
       "9   21.367990  18.712309  1\n",
       "10   2.742368   9.577106  0\n",
       "11  19.889426  15.898579  1\n",
       "12  11.327374  12.893008  0\n",
       "13  14.197280  10.909934  0\n",
       "14  22.302614  25.038878  1\n",
       "15   7.173128   5.030339  0\n",
       "16  11.165606  23.951555  1\n",
       "17   5.327702   6.495280  0\n",
       "18  20.633144  17.689928  1\n",
       "19  21.519939  28.223327  1\n",
       "20  16.130211  24.143617  1\n",
       "21  10.097339  17.521928  0\n",
       "22  17.442766  20.707834  1\n",
       "23  12.368016  16.916404  1\n",
       "24  18.030082  11.490216  1\n",
       "25   4.436147   6.008804  0\n",
       "26  13.586938   5.377042  0\n",
       "27  11.653677   9.632250  0\n",
       "28   7.032909  12.273721  0\n",
       "29  20.662261  22.811282  1\n",
       "30  16.450200   6.265440  0\n",
       "31   8.942052   7.980884  0\n",
       "32  25.464995  20.352601  1\n",
       "33  10.633718  26.321456  1\n",
       "34   3.547441   8.265382  0"
      ]
     },
     "execution_count": 3,
     "metadata": {},
     "output_type": "execute_result"
    }
   ],
   "source": [
    "train_set"
   ]
  },
  {
   "cell_type": "code",
   "execution_count": 4,
   "metadata": {
    "collapsed": true
   },
   "outputs": [],
   "source": [
    "train_x = train_set[['x1','x2']].as_matrix()\n",
    "train_t = train_set['t'].as_matrix().reshape([len(train_set), 1])"
   ]
  },
  {
   "cell_type": "code",
   "execution_count": 5,
   "metadata": {
    "collapsed": false
   },
   "outputs": [],
   "source": [
    "#ステップ1_与えられたデータを元にして、未知のデータを予測する数式を考える\n",
    "x = tf.placeholder(tf.float32, [None, 2])\n",
    "w = tf.Variable(tf.zeros([2, 1]))\n",
    "#一要素の一次元リストとして定義\n",
    "w0 = tf.Variable(tf.zeros([1]))\n",
    "f = tf.matmul(x, w) + w0\n",
    "#fをシグモイド関数\n",
    "p = tf.sigmoid(f)"
   ]
  },
  {
   "cell_type": "code",
   "execution_count": 6,
   "metadata": {
    "collapsed": false
   },
   "outputs": [],
   "source": [
    "#ステップ2_数式に含まれるパラメーターの良し悪しを判断する誤差関数を用意する。\n",
    "t = tf.placeholder(tf.float32, [None, 1])\n",
    "#誤差関数の設定\n",
    "loss = -tf.reduce_sum(t*tf.log(p) + (1-t)*tf.log(1-p))\n",
    "#ステップ3、誤差関数を最小にするようにパラメータの値を決定する。\n",
    "#トレーニングアルゴリズムの指定\n",
    "train_step = tf.train.AdamOptimizer().minimize(loss)"
   ]
  },
  {
   "cell_type": "code",
   "execution_count": 7,
   "metadata": {
    "collapsed": true
   },
   "outputs": [],
   "source": [
    "#（Pn-0.5）と（tn-0.5）の符号を比較することで、予測が正解しているかどうかを判定している。\n",
    "#tf.signは符号を取り出す関数で、tf.eqaulは2つの引数の値が等しいかどうかを判定して、Bool値買えす関数である。\n",
    "correct_prediction = tf.equal(tf.sign(p-0.5), tf.sign(t-0.5))\n",
    "#tf.cast関数でBool値を1.0の値に変換して、全体の平均値を計算している。\n",
    "#tf.reduce_meanは、ベクトルの各成分の平均値を計算する関数である。\n",
    "#正解なら1、不正解なら0が並んだベクトルの平均値を計算し、これが結局、正解率の値となる。\n",
    "accuracy = tf.reduce_mean(tf.cast(correct_prediction, tf.float32))"
   ]
  },
  {
   "cell_type": "code",
   "execution_count": 8,
   "metadata": {
    "collapsed": true
   },
   "outputs": [],
   "source": [
    "#セッションの用意\n",
    "sess = tf.Session()\n",
    "#Variableの値の初期化\n",
    "sess.run(tf.initialize_all_variables())"
   ]
  },
  {
   "cell_type": "code",
   "execution_count": 9,
   "metadata": {
    "collapsed": false,
    "scrolled": true
   },
   "outputs": [
    {
     "name": "stdout",
     "output_type": "stream",
     "text": [
      "Step: 2000, Loss: 15.165894, Accuracy: 0.885714\n",
      "Step: 4000, Loss: 10.772635, Accuracy: 0.914286\n",
      "Step: 6000, Loss: 8.197757, Accuracy: 0.971429\n",
      "Step: 8000, Loss: 6.576121, Accuracy: 0.971429\n",
      "Step: 10000, Loss: 5.511984, Accuracy: 0.942857\n",
      "Step: 12000, Loss: 4.798029, Accuracy: 0.942857\n",
      "Step: 14000, Loss: 4.314191, Accuracy: 0.942857\n",
      "Step: 16000, Loss: 3.986273, Accuracy: 0.942857\n",
      "Step: 18000, Loss: 3.766507, Accuracy: 0.942857\n",
      "Step: 20000, Loss: 3.623062, Accuracy: 0.942857\n"
     ]
    }
   ],
   "source": [
    "#ステップ3_誤差関数を最小にするようにパラメーターの値を決定する。\n",
    "#勾配降下法によるパラメータの最適化を20000回繰り返します。\n",
    "#ここでは、2000回繰り返すごとに、その時点での誤差関数lossと正解率accuracyの値を計算して表示している。\n",
    "i = 0\n",
    "for _ in range(20000):\n",
    "    i += 1\n",
    "    sess.run(train_step, feed_dict={x:train_x, t:train_t})\n",
    "    if i % 2000 == 0:\n",
    "        loss_val, acc_val = sess.run(\n",
    "            [loss, accuracy], feed_dict={x:train_x, t:train_t})\n",
    "        print ('Step: %d, Loss: %f, Accuracy: %f'\n",
    "               % (i, loss_val, acc_val))"
   ]
  },
  {
   "cell_type": "code",
   "execution_count": 10,
   "metadata": {
    "collapsed": false
   },
   "outputs": [
    {
     "name": "stdout",
     "output_type": "stream",
     "text": [
      "-15.6304 0.560301 0.492597\n"
     ]
    }
   ],
   "source": [
    "#最適化の処理はここで打ち切って、この時点でのパラメーター（Variable）の値を取得している。\n",
    "#w0とwは、それぞれ、一要素のみのリスト、及び、2×1行列として定義されている。\n",
    "w0_val, w_val = sess.run([w0, w])\n",
    "#インデックスを指定して具体的な値の部分を取り出す。\n",
    "w0_val, w1_val, w2_val = w0_val[0], w_val[0][0], w_val[1][0]\n",
    "print w0_val, w1_val, w2_val"
   ]
  },
  {
   "cell_type": "code",
   "execution_count": 12,
   "metadata": {
    "collapsed": false
   },
   "outputs": [
    {
     "name": "stderr",
     "output_type": "stream",
     "text": [
      "/usr/lib/pymodules/python2.7/matplotlib/collections.py:548: FutureWarning: elementwise comparison failed; returning scalar instead, but in the future will perform elementwise comparison\n",
      "  if self._edgecolors == 'face':\n"
     ]
    }
   ],
   "source": [
    "train_set0 = train_set[train_set['t']==0]\n",
    "train_set1 = train_set[train_set['t']==1]\n",
    "\n",
    "fig = plt.figure(figsize=(6,6))\n",
    "subplot = fig.add_subplot(1,1,1)\n",
    "subplot.set_ylim([0,30])\n",
    "subplot.set_xlim([0,30])\n",
    "subplot.scatter(train_set1.x1, train_set1.x2, marker='x')\n",
    "subplot.scatter(train_set0.x1, train_set0.x2, marker='o')\n",
    "\n",
    "linex = np.linspace(0,30,10)\n",
    "liney = - (w1_val*linex/w2_val + w0_val/w2_val)\n",
    "subpelot.plot(linex, liney)\n",
    "field = [[(1 / (1 + np.exp(-(w0_val + w1_val*x1 + w2_val*x2))))\n",
    "         for x1 in np.linspace(0,30,100)]\n",
    "        for x2 in np.linspace(0,30,100)]\n",
    "subplot.imshow(field, origin='lower', extent=(0,30,0,30),\n",
    "              cmap=plt.cm.gray_r, alpha=0.5)\n",
    "plt.show()"
   ]
  },
  {
   "cell_type": "code",
   "execution_count": null,
   "metadata": {
    "collapsed": true
   },
   "outputs": [],
   "source": []
  }
 ],
 "metadata": {
  "kernelspec": {
   "display_name": "Python 2",
   "language": "python",
   "name": "python2"
  },
  "language_info": {
   "codemirror_mode": {
    "name": "ipython",
    "version": 2
   },
   "file_extension": ".py",
   "mimetype": "text/x-python",
   "name": "python",
   "nbconvert_exporter": "python",
   "pygments_lexer": "ipython2",
   "version": "2.7.6"
  }
 },
 "nbformat": 4,
 "nbformat_minor": 1
}
