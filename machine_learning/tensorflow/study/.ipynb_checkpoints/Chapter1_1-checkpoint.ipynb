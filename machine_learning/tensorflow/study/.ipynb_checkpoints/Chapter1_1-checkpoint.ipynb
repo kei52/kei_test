{
 "cells": [
  {
   "cell_type": "code",
   "execution_count": 21,
   "metadata": {
    "collapsed": true
   },
   "outputs": [],
   "source": [
    "#!/usr/bin/env python\n",
    "# -*- coding: utf-8 -*-\n",
    "import tensorflow as tf\n",
    "#数値計算ライブラリー\n",
    "import numpy as np\n",
    "import matplotlib.pyplot as plt"
   ]
  },
  {
   "cell_type": "code",
   "execution_count": 22,
   "metadata": {
    "collapsed": true
   },
   "outputs": [],
   "source": [
    "#xに相当する変数を定義する。トレーニングセットのデータを保存する\n",
    "x = tf.placeholder(tf.float32, [None, 5])"
   ]
  },
  {
   "cell_type": "code",
   "execution_count": 23,
   "metadata": {
    "collapsed": true
   },
   "outputs": [],
   "source": [
    "#tf.zeros([5, 1])は、変数の初期値を与えており、これは、すべての要素が0の5×1行列になる。\n",
    "w = tf.Variable(tf.zeros([5, 1]))"
   ]
  },
  {
   "cell_type": "code",
   "execution_count": 4,
   "metadata": {
    "collapsed": true
   },
   "outputs": [],
   "source": [
    "#行列の掛け算を行う関数、この時点ではxには値は入っていない。\n",
    "y = tf.matmul(x, w)"
   ]
  },
  {
   "cell_type": "code",
   "execution_count": 5,
   "metadata": {
    "collapsed": false
   },
   "outputs": [],
   "source": [
    "#データ数の部分は任意に取れるように[None1]というサイズ指定を行う\n",
    "t = tf.placeholder(tf.float32, [None, 1])"
   ]
  },
  {
   "cell_type": "code",
   "execution_count": 6,
   "metadata": {
    "collapsed": true
   },
   "outputs": [],
   "source": [
    "#これを用いて，誤差関数の式は次のようになる\n",
    "loss = tf.reduce_sum(tf.square(y-t))"
   ]
  },
  {
   "cell_type": "code",
   "execution_count": 7,
   "metadata": {
    "collapsed": true
   },
   "outputs": [],
   "source": [
    "#二乗誤差Eを最小にパラメーターのを決定するという処理へと進む。Tensorflowは勾配降下方によるパラメータ最適化のアルゴリズムを内蔵している。ここでは、最適化に使用するアルゴリズム（トレーニングアルゴリズム）を選択している。\n",
    "train_step = tf.train.AdamOptimizer().minimize(loss)"
   ]
  },
  {
   "cell_type": "code",
   "execution_count": 8,
   "metadata": {
    "collapsed": true
   },
   "outputs": [],
   "source": [
    "#↑ベクトルの反対方向にパラメータを修正するという、学習率に相当するパラメータを自動的に調整する仕組みを持っている"
   ]
  },
  {
   "cell_type": "code",
   "execution_count": 9,
   "metadata": {
    "collapsed": true
   },
   "outputs": [],
   "source": [
    "#トレーニングアルゴリズムの実行環境となる「セッション」を用意して,この中でパラメーター、すなわち、Variableに相当する変数の値を計算をしていく。\n",
    "sess = tf.Session()\n",
    "#新しいセッションを用意して↑、Variableを初期化する処理を行う。\n",
    "sess.run(tf.initialize_all_variables())"
   ]
  },
  {
   "cell_type": "code",
   "execution_count": 11,
   "metadata": {
    "collapsed": false
   },
   "outputs": [],
   "source": [
    "#Pythonのリストに対して、数値計算処理に便利な機能を追加したラッパーである\n",
    "#train_tは、実際に観測された気温のデータ（12個のデータを一次元リストとして用意）\n",
    "train_t = np.array([5.2, 5.7, 8.6, 14.9, 18.2, 20.4,\n",
    "                   25.5, 26.4, 22.8, 17.5, 11.1, 6.6])\n",
    "#reshapeで12×1行列に変換\n",
    "train_t = train_t.reshape([12,1])\n",
    "\n",
    "#要素0が入っている12×5行列\n",
    "train_x = np.zeros([12, 5])\n",
    "for row, month in enumerate(range(1, 13)):\n",
    "    for col, n in enumerate(range(0, 5)):\n",
    "        train_x[row][col] = month**n"
   ]
  },
  {
   "cell_type": "code",
   "execution_count": 12,
   "metadata": {
    "collapsed": false
   },
   "outputs": [
    {
     "name": "stdout",
     "output_type": "stream",
     "text": [
      "Step: 10000, Loss: 31.012341\n",
      "Step: 20000, Loss: 29.450821\n",
      "Step: 30000, Loss: 28.034981\n",
      "Step: 40000, Loss: 26.853539\n",
      "Step: 50000, Loss: 25.776312\n",
      "Step: 60000, Loss: 24.763887\n",
      "Step: 70000, Loss: 23.833887\n",
      "Step: 80000, Loss: 23.012321\n",
      "Step: 90000, Loss: 31.459843\n",
      "Step: 100000, Loss: 21.431906\n"
     ]
    }
   ],
   "source": [
    "#勾配降下法によるパラメータの最適化を実施する。定義した、トレーニングアルゴリズムを用いて、相当する修正を100000回繰り返す。10000回実施するごとに、その時点での誤差関数の値を計算して表示している\n",
    "i = 0\n",
    "for _ in range(100000):\n",
    "    i += 1\n",
    "    #セッション内でトレーニングアルゴリズムtrain_stepを実行することで，Variableに当たる変数(今の場合はw）の値を修正している。この時、feed_dictオプションでplaceholderに具体的な値をセットしている。\n",
    "    #Placeholderを定義した変数をキーとするディクショナリーで値を指定する。\n",
    "    sess.run(train_step, feed_dict={x:train_x, t:train_t})\n",
    "    if i % 10000 == 0:\n",
    "        #セッション内で計算値lossを評価しており、これは、その時点の値を取り出す効果がある。つまり、セッション内における、その時点でのVariablesの値を用いて計算した結果を返す。Placeholderには、feed_dictオプションで指定された値が入る。\n",
    "        loss_val = sess.run(loss, feed_dict={x:train_x, t:train_t})\n",
    "        print ('Step: %d, Loss: %f' % (i, loss_val))\n",
    "#この実行結果を見ると、パラメーターの修正を繰り返すことで、誤差関数の値が減少していくことが分かる。"
   ]
  },
  {
   "cell_type": "code",
   "execution_count": 13,
   "metadata": {
    "collapsed": false
   },
   "outputs": [
    {
     "name": "stdout",
     "output_type": "stream",
     "text": [
      "Step: 110000, Loss: 20.748278\n",
      "Step: 120000, Loss: 20.200783\n",
      "Step: 130000, Loss: 19.524529\n",
      "Step: 140000, Loss: 35.969006\n",
      "Step: 150000, Loss: 18.509336\n",
      "Step: 160000, Loss: 18.014692\n",
      "Step: 170000, Loss: 17.631437\n",
      "Step: 180000, Loss: 17.175123\n",
      "Step: 190000, Loss: 16.803270\n",
      "Step: 200000, Loss: 16.465893\n"
     ]
    }
   ],
   "source": [
    "for _ in range(100000):\n",
    "    i += 1\n",
    "    sess.run(train_step, feed_dict={x:train_x, t:train_t})\n",
    "    if i % 10000 == 0:\n",
    "        loss_val = sess.run(loss, feed_dict={x:train_x, t:train_t})\n",
    "        print ('Step: %d, Loss: %f' % (i, loss_val))"
   ]
  },
  {
   "cell_type": "code",
   "execution_count": 18,
   "metadata": {
    "collapsed": false
   },
   "outputs": [
    {
     "name": "stdout",
     "output_type": "stream",
     "text": [
      "[[ 6.1079483 ]\n",
      " [-4.0438776 ]\n",
      " [ 2.51106262]\n",
      " [-0.28175303]\n",
      " [ 0.00834802]]\n"
     ]
    }
   ],
   "source": [
    "#セッション内でVariableのwを評価することで、セッション内に保持されている値を取り出している\n",
    "#Placeholderの値はVariableの値に影響しないので、ここでは、feed_dictオプションの指定は不要である。\n",
    "w_val = sess.run(w)\n",
    "#NumPyのarrayオブジェクトとして取り出されており、Print文で表示すると、行列形式に整形されて表示される。\n",
    "print w_val"
   ]
  },
  {
   "cell_type": "code",
   "execution_count": 19,
   "metadata": {
    "collapsed": true
   },
   "outputs": [],
   "source": [
    "#続いて、この計算を用いて、予測気温を計算する関数を用意する。\n",
    "def predict(x):\n",
    "    result = 0.0\n",
    "    for n in range(0, 5):\n",
    "        result += w_val[n][0] * x**n\n",
    "    return result"
   ]
  },
  {
   "cell_type": "code",
   "execution_count": 25,
   "metadata": {
    "collapsed": false
   },
   "outputs": [
    {
     "name": "stderr",
     "output_type": "stream",
     "text": [
      "/usr/lib/pymodules/python2.7/matplotlib/collections.py:548: FutureWarning: elementwise comparison failed; returning scalar instead, but in the future will perform elementwise comparison\n",
      "  if self._edgecolors == 'face':\n"
     ]
    }
   ],
   "source": [
    "#図形領域を示すオブジェクトの取得\n",
    "fig = plt.figure()\n",
    "#その中にグラフを描く領域を用意している。\n",
    "subplot = fig.add_subplot(1,1,1)\n",
    "#x軸の表示範囲の設定\n",
    "subplot.set_xlim(1,12)\n",
    "#トレーニングセットのデータ、すなわち、実際に観測された月々の平均気温を散布図にプロットしている。\n",
    "subplot.scatter(range(1,13), train_t)\n",
    "#1～12の範囲を等間隔に分けた100個の値のリストを返す。\n",
    "linex = np.linspace(1,12,100)\n",
    "#このリストを関数に代入することで、それぞれに対応する関数値のリストを取得\n",
    "liney = predict(linex)\n",
    "#得られた結果を折れ線グラフに表示する。\n",
    "subplot.plot(linex,liney)\n",
    "plt.show()"
   ]
  },
  {
   "cell_type": "code",
   "execution_count": null,
   "metadata": {
    "collapsed": true
   },
   "outputs": [],
   "source": []
  }
 ],
 "metadata": {
  "kernelspec": {
   "display_name": "Python 2",
   "language": "python",
   "name": "python2"
  },
  "language_info": {
   "codemirror_mode": {
    "name": "ipython",
    "version": 2
   },
   "file_extension": ".py",
   "mimetype": "text/x-python",
   "name": "python",
   "nbconvert_exporter": "python",
   "pygments_lexer": "ipython2",
   "version": "2.7.6"
  }
 },
 "nbformat": 4,
 "nbformat_minor": 1
}
